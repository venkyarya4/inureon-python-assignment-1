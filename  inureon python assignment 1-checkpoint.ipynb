{
 "cells": [
  {
   "cell_type": "markdown",
   "metadata": {},
   "source": [
    "# Python Assignment 1 "
   ]
  },
  {
   "cell_type": "code",
   "execution_count": 8,
   "metadata": {},
   "outputs": [
    {
     "name": "stdout",
     "output_type": "stream",
     "text": [
      "Enter the first namevenky\n",
      "Enter the last namearya\n",
      "ayra yknev\n"
     ]
    }
   ],
   "source": [
    "first_name=input('Enter the first name')\n",
    "last_name=input('Enter the last name')\n",
    "final_name=first_name + ' '+ last_name\n",
    "print(final_name[::-1])\n"
   ]
  },
  {
   "cell_type": "markdown",
   "metadata": {},
   "source": [
    "# To find volume of a sphere"
   ]
  },
  {
   "cell_type": "code",
   "execution_count": 18,
   "metadata": {},
   "outputs": [
    {
     "name": "stdout",
     "output_type": "stream",
     "text": [
      "Enter the diameter of sphere\n",
      "10\n",
      "The volume of sphere is 62.831853071795855\n"
     ]
    }
   ],
   "source": [
    "import math\n",
    "D=float(input('Enter the diameter of sphere\\n'))\n",
    "def volume(D):\n",
    "    vol=4/3*math.pi*(D/2)*3\n",
    "    print('The volume of sphere is',vol)\n",
    "volume(v)"
   ]
  },
  {
   "cell_type": "code",
   "execution_count": null,
   "metadata": {},
   "outputs": [],
   "source": []
  }
 ],
 "metadata": {
  "kernelspec": {
   "display_name": "Python 3",
   "language": "python",
   "name": "python3"
  },
  "language_info": {
   "codemirror_mode": {
    "name": "ipython",
    "version": 3
   },
   "file_extension": ".py",
   "mimetype": "text/x-python",
   "name": "python",
   "nbconvert_exporter": "python",
   "pygments_lexer": "ipython3",
   "version": "3.7.4"
  }
 },
 "nbformat": 4,
 "nbformat_minor": 2
}
